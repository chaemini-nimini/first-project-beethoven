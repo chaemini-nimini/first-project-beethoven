# 🎼 베토벤 랜덤 재생기
# 첫 번째 프로젝트 - Google Colab + Flask + ngrok

# 필요한 라이브러리 설치
!pip install pyngrok

import os
from flask import Flask, send_from_directory, jsonify
import urllib.parse
import random
import subprocess
from pyngrok import ngrok, conf

# --- Google Drive 마운트 ---
try:
    from google.colab import drive
    print("Google Drive 마운트 중...")
    drive.mount('/content/drive')
    print("Google Drive 마운트 완료.")
except Exception as e:
    print(f"Google Drive 마운트 중 오류 발생: {e}")

app = Flask(__name__)

# --- 설정 (Configuration) ---
NGROK_AUTH_TOKEN = "YOUR_NGROK_AUTH_TOKEN_HERE"  # 실제 사용 시 본인의 ngrok 토큰으로 교체
MUSIC_FOLDER = '/content/drive/MyDrive/새 폴더'  # 음악 파일 경로
BACKGROUND_IMAGE = '160504-salvador-dali-01.webp'  # 배경 이미지
BUTTON_IMAGE = 'Gemini_Generated_Image_3rnjgm3rnjgm3rnj.png'  # 재생 버튼 이미지

# --- ngrok 설정 ---
ngrok_path = "/usr/local/bin/ngrok"
if not os.path.exists(ngrok_path):
    print("ngrok 실행 파일 다운로드 중...")
    try:
        subprocess.run(["wget", "https://bin.equinox.io/c/4VmDzA7iaHb/ngrok-stable-linux-amd64.zip"], check=True, capture_output=True)
        subprocess.run(["unzip", "-o", "ngrok-stable-linux-amd64.zip"], check=True, capture_output=True)
        subprocess.run(["mv", "ngrok", ngrok_path], check=True, capture_output=True)
        subprocess.run(["chmod", "+x", ngrok_path], check=True, capture_output=True)
        print("ngrok 설정 완료.")
    except Exception as e:
        print(f"ngrok 설정 오류: {e}")
        ngrok_path = None

# ngrok 인증 및 터널 시작
if NGROK_AUTH_TOKEN != "YOUR_NGROK_AUTH_TOKEN_HERE":
    try:
        print("ngrok 터널 시작 중...")
        ngrok.set_auth_token(NGROK_AUTH_TOKEN)
        conf.get_default().ngrok_path = ngrok_path
        http_tunnel = ngrok.connect(5000, "http")
        print(f"🌐 웹사이트 URL: {http_tunnel.public_url}")
    except Exception as e:
        print(f"ngrok 터널 오류: {e}")

# --- 음악 파일 로드 ---
music_files = []
try:
    if os.path.exists(MUSIC_FOLDER):
        all_files = os.listdir(MUSIC_FOLDER)
        music_files = [f for f in all_files if f.lower().endswith('.mp3')]
        print(f"🎵 {len(music_files)}개의 음악 파일 로드 완료!")
    else:
        print("❌ 음악 폴더를 찾을 수 없습니다.")
except Exception as e:
    print(f"음악 파일 로드 오류: {e}")

# --- 웹 애플리케이션 ---
@app.route('/')
def home():
    """메인 페이지 - 베토벤 랜덤 재생기"""
    bg_url = f"/music/{urllib.parse.quote(BACKGROUND_IMAGE)}"
    button_url = f"/static_image/{urllib.parse.quote(BUTTON_IMAGE)}"
    
    return f'''
    <!DOCTYPE html>
    <html lang="ko">
    <head>
        <meta charset="UTF-8">
        <meta name="viewport" content="width=device-width, initial-scale=1.0">
        <title>🎼 Beethoven Random Player</title>
        <style>
            body {{
                font-family: 'Inter', sans-serif;
                background-image: url('{bg_url}');
                background-size: cover;
                background-position: center;
                background-attachment: fixed;
                margin: 0;
                overflow: hidden;
            }}
            
            #playButton {{
                position: absolute;
                bottom: 50px;
                right: 50px;
                width: 150px;
                height: 150px;
                border: none;
                border-radius: 20%;
                cursor: pointer;
                box-shadow: 0 8px 25px rgba(0,0,0,0.4);
                transition: transform 0.2s ease;
                opacity: 0.8;
            }}
            
            #playButton:hover {{
                transform: scale(1.08);
                opacity: 1;
            }}
            
            #playButton img {{
                width: 100%;
                height: 100%;
                object-fit: cover;
                border-radius: inherit;
            }}
            
            #songTitle {{
                position: absolute;
                top: 50px;
                left: 50px;
                color: white;
                font-size: 1.5rem;
                font-weight: bold;
                text-shadow: 2px 2px 5px rgba(0,0,0,0.8);
                background: rgba(0,0,0,0.3);
                padding: 15px 20px;
                border-radius: 10px;
                max-width: 400px;
                opacity: 0.9;
            }}
            
            .loading {{
                position: absolute;
                top: 150px;
                left: 50px;
                color: white;
                background: rgba(0,0,0,0.5);
                padding: 10px 15px;
                border-radius: 5px;
            }}
        </style>
    </head>
    <body>
        <div id="songTitle">🎵 재생할 음악을 선택해주세요</div>
        <div id="loading" class="loading" style="display:none;">🔄 음악 로딩 중...</div>
        
        <button id="playButton">
            <img src="{button_url}" alt="Play Music">
        </button>
        
        <audio id="audioPlayer"></audio>
        
        <script>
            const playBtn = document.getElementById('playButton');
            const audio = document.getElementById('audioPlayer');
            const title = document.getElementById('songTitle');
            const loading = document.getElementById('loading');
            
            playBtn.onclick = async () => {{
                loading.style.display = 'block';
                title.textContent = '🔄 음악을 불러오는 중...';
                
                try {{
                    const response = await fetch('/random_music');
                    const data = await response.json();
                    
                    if (data.error) throw new Error(data.error);
                    
                    audio.src = data.music_url;
                    title.textContent = `🎼 ${{data.music_title}}`;
                    
                    await audio.play();
                    loading.style.display = 'none';
                }} catch (error) {{
                    console.error('Error:', error);
                    title.textContent = '❌ 재생 오류가 발생했습니다';
                    loading.style.display = 'none';
                }}
            }};
        </script>
    </body>
    </html>
    '''

@app.route('/random_music')
def get_random_music():
    """랜덤 음악 선택"""
    if not music_files:
        return jsonify({"error": "음악 파일이 없습니다."}), 500
    
    selected_file = random.choice(music_files)
    encoded_filename = urllib.parse.quote(selected_file)
    
    return jsonify({
        "music_url": f"/music/{encoded_filename}",
        "music_title": os.path.splitext(selected_file)[0]
    })

@app.route('/music/<path:filename>')
def serve_music(filename):
    """음악 파일 제공"""
    decoded_filename = urllib.parse.unquote(filename)
    return send_from_directory(MUSIC_FOLDER, decoded_filename)

@app.route('/static_image/<path:filename>')
def serve_image(filename):
    """이미지 파일 제공"""
    return send_from_directory(MUSIC_FOLDER, filename)

# --- 서버 실행 ---
if __name__ == '__main__':
    print("베토벤 플레이어 시작!")
    app.run(host='0.0.0.0', port=5000)
